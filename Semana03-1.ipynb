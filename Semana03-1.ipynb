{
 "cells": [
  {
   "cell_type": "markdown",
   "id": "4802bc42",
   "metadata": {},
   "source": [
    "# Semana03\n",
    "Kenet Simon Ureta Flover"
   ]
  },
  {
   "cell_type": "markdown",
   "id": "899a8f2c",
   "metadata": {},
   "source": [
    "Temas:\n",
    "    1.Números\n",
    "    2.Variables\n",
    "    3.Manejo de cadenas \n",
    "    4.Ingresos de datos por teclado \n",
    "    5.Operadores"
   ]
  },
  {
   "cell_type": "markdown",
   "id": "d592a5d8",
   "metadata": {},
   "source": [
    "1.Numeros"
   ]
  },
  {
   "cell_type": "code",
   "execution_count": 2,
   "id": "8c05c665",
   "metadata": {},
   "outputs": [
    {
     "data": {
      "text/plain": [
       "14"
      ]
     },
     "execution_count": 2,
     "metadata": {},
     "output_type": "execute_result"
    }
   ],
   "source": [
    "9+5"
   ]
  },
  {
   "cell_type": "code",
   "execution_count": null,
   "id": "c203e629",
   "metadata": {},
   "outputs": [],
   "source": []
  }
 ],
 "metadata": {
  "kernelspec": {
   "display_name": "Python 3 (ipykernel)",
   "language": "python",
   "name": "python3"
  },
  "language_info": {
   "codemirror_mode": {
    "name": "ipython",
    "version": 3
   },
   "file_extension": ".py",
   "mimetype": "text/x-python",
   "name": "python",
   "nbconvert_exporter": "python",
   "pygments_lexer": "ipython3",
   "version": "3.9.12"
  }
 },
 "nbformat": 4,
 "nbformat_minor": 5
}
